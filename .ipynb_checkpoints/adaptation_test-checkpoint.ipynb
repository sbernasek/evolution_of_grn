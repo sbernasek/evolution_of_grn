{
 "cells": [
  {
   "cell_type": "code",
   "execution_count": null,
   "metadata": {
    "collapsed": true
   },
   "outputs": [],
   "source": [
    "from main import *\n",
    "import pickle\n",
    "%load_ext autoreload\n",
    "%autoreload 2"
   ]
  },
  {
   "cell_type": "code",
   "execution_count": null,
   "metadata": {
    "collapsed": false
   },
   "outputs": [],
   "source": [
    "%%prun -D adaptation_test.prof -q\n",
    "\n",
    "\"\"\"\n",
    "Run the largest simulation you can... ideally with a number of generations ~2-3x the number of cells. As a \n",
    "crude estimate: \n",
    "\n",
    "        total time = generations * population_size * 8s \n",
    "\n",
    "So 100 generations of 50 cells should take ~11 hours.\n",
    "\n",
    "Running this cell should create two files:   adaptation_test_results.p   and   adaptation_test.prof \n",
    "\n",
    "\"\"\"\n",
    "\n",
    "# define simulation size here\n",
    "generations = 100\n",
    "population_size = 50\n",
    "\n",
    "# run simulation\n",
    "populations = run_simulation(generations=generations, population_size=population_size, mutations_per_division=2)\n",
    "\n",
    "# write results to serialized file\n",
    "with open('adaptation_test_results.p', 'wb') as f:\n",
    "    pickle.dump(populations, f)"
   ]
  }
 ],
 "metadata": {
  "kernelspec": {
   "display_name": "Python 3",
   "language": "python",
   "name": "python3"
  },
  "language_info": {
   "codemirror_mode": {
    "name": "ipython",
    "version": 3
   },
   "file_extension": ".py",
   "mimetype": "text/x-python",
   "name": "python",
   "nbconvert_exporter": "python",
   "pygments_lexer": "ipython3",
   "version": "3.4.3"
  }
 },
 "nbformat": 4,
 "nbformat_minor": 0
}
