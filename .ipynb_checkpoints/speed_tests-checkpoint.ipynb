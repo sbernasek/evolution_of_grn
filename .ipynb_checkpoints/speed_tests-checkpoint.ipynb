{
 "cells": [
  {
   "cell_type": "code",
   "execution_count": 1,
   "metadata": {
    "collapsed": false
   },
   "outputs": [],
   "source": [
    "import numpy as np\n",
    "import functools\n",
    "import scipy.integrate\n",
    "import time\n",
    "from operator import mul\n",
    "from operator import itemgetter\n",
    "\n",
    "from main import *\n",
    "\n",
    "%matplotlib inline\n",
    "%load_ext autoreload\n",
    "%autoreload 2"
   ]
  },
  {
   "cell_type": "code",
   "execution_count": 2,
   "metadata": {
    "collapsed": true
   },
   "outputs": [],
   "source": [
    "# generate random cell\n",
    "cell = Cell(1, permanent_genes=2)\n",
    "for _ in range(0, 100):\n",
    "    _, cell = cell.divide(2)\n",
    "    \n",
    "conc = (cell.stoichiometry[:, 0])\n",
    "conc[3] = 3\n",
    "conc[4]= 8\n",
    "conc[8] = 1.3"
   ]
  },
  {
   "cell_type": "code",
   "execution_count": 27,
   "metadata": {
    "collapsed": false
   },
   "outputs": [
    {
     "name": "stdout",
     "output_type": "stream",
     "text": [
      "10000 loops, best of 3: 78.3 µs per loop\n"
     ]
    }
   ],
   "source": [
    "%%timeit \n",
    "\n",
    "cell.get_rate_vector(conc)"
   ]
  },
  {
   "cell_type": "code",
   "execution_count": 21,
   "metadata": {
    "collapsed": false
   },
   "outputs": [],
   "source": []
  },
  {
   "cell_type": "code",
   "execution_count": null,
   "metadata": {
    "collapsed": false
   },
   "outputs": [],
   "source": []
  }
 ],
 "metadata": {
  "kernelspec": {
   "display_name": "Python 3",
   "language": "python",
   "name": "python3"
  },
  "language_info": {
   "codemirror_mode": {
    "name": "ipython",
    "version": 3
   },
   "file_extension": ".py",
   "mimetype": "text/x-python",
   "name": "python",
   "nbconvert_exporter": "python",
   "pygments_lexer": "ipython3",
   "version": "3.4.3"
  }
 },
 "nbformat": 4,
 "nbformat_minor": 0
}
