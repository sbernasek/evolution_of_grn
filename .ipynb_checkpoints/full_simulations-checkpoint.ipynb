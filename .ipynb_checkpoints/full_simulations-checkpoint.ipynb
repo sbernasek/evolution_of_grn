{
 "cells": [
  {
   "cell_type": "code",
   "execution_count": 1,
   "metadata": {
    "collapsed": false
   },
   "outputs": [],
   "source": [
    "from main import *\n",
    "import matplotlib.pyplot as plt\n",
    "import time \n",
    "\n",
    "%matplotlib inline\n",
    "%load_ext autoreload\n",
    "%autoreload 2"
   ]
  },
  {
   "cell_type": "code",
   "execution_count": null,
   "metadata": {
    "collapsed": true
   },
   "outputs": [],
   "source": []
  },
  {
   "cell_type": "code",
   "execution_count": 18,
   "metadata": {
    "collapsed": false
   },
   "outputs": [
    {
     "name": "stdout",
     "output_type": "stream",
     "text": [
      "Generation 0 : 2.3 edges in average network\n",
      "Generation 1 : 3.4 edges in average network\n",
      "Generation 2 : 4 edges in average network\n",
      "Generation 3 : 4.7 edges in average network\n",
      "Generation 4 : 4.3 edges in average network\n"
     ]
    },
    {
     "name": "stderr",
     "output_type": "stream",
     "text": [
      "/Users/Sebi/Documents/GradSchool/Evolution_of_GRNs/Evolution_of_GRN/modules/reactions.py:53: RuntimeWarning: overflow encountered in double_scalars\n",
      "  activity = functools.reduce(lambda x, y: x*y, concentrations)\n"
     ]
    }
   ],
   "source": [
    "population, score_evolution = run_simulation(generations=5, population_size=10, mutations_per_division=2, retall=True)"
   ]
  },
  {
   "cell_type": "code",
   "execution_count": null,
   "metadata": {
    "collapsed": true
   },
   "outputs": [],
   "source": []
  },
  {
   "cell_type": "code",
   "execution_count": 17,
   "metadata": {
    "collapsed": false
   },
   "outputs": [
    {
     "data": {
      "text/plain": [
       "[4, 6, 8]"
      ]
     },
     "execution_count": 17,
     "metadata": {},
     "output_type": "execute_result"
    }
   ],
   "source": []
  },
  {
   "cell_type": "code",
   "execution_count": null,
   "metadata": {
    "collapsed": false
   },
   "outputs": [],
   "source": []
  },
  {
   "cell_type": "code",
   "execution_count": 20,
   "metadata": {
    "collapsed": false
   },
   "outputs": [
    {
     "data": {
      "image/png": "[encoded data removed]",
      "text/plain": [
       "<matplotlib.figure.Figure at 0x10ab28940>"
      ]
     },
     "metadata": {},
     "output_type": "display_data"
    }
   ],
   "source": [
    "# ax1 = plot_1D_trajectory(score_evolution, obj=1)\n",
    "ax2 = plot_2D_trajectory(score_evolution, obj=(0, 1))\n",
    "ax2.set_xlim(1e1, 1e5)\n",
    "ax2.set_ylim(1e5, 1e8)\n",
    "ax2.set_xscale('log')\n",
    "ax2.set_yscale('log')"
   ]
  },
  {
   "cell_type": "code",
   "execution_count": 21,
   "metadata": {
    "collapsed": false
   },
   "outputs": [
    {
     "name": "stdout",
     "output_type": "stream",
     "text": [
      "Generation: 0\n",
      "Scores: [[239.7508977706903, 70808361.204947025], [629.9440745460679, 59152880.003434122]]\n",
      "\n",
      "\n",
      "Generation: 1\n",
      "Scores: [[239.7508977706903, 58172286.25418555], [413.29669251868756, 36685782.159451008], [629.9440745460679, 33484062.79880017], [1484.354032948715, 29088329.546317693]]\n",
      "\n",
      "\n",
      "Generation: 2\n",
      "Scores: [[239.7508977706903, 72004868.916859895], [413.29669251868756, 34892062.328202821], [2803.725580863495, 33279805.748120937], [5036.3995322230921, 27997551.302037161]]\n",
      "\n",
      "\n",
      "Generation: 3\n",
      "Scores: [[239.7508977706903, 89758464.812930703], [413.29669251868756, 33110014.763246771], [1476.5879580312105, 29880422.16934438], [3918.3398393339307, 26515043.298477728], [325.9875323442227, 66107921.710930735]]\n",
      "\n",
      "\n",
      "Generation: 4\n",
      "Scores: [[413.29669251868756, 38475611.235268302], [3028.481437021183, 35533556.753794573], [3918.3398393339307, 26515043.298477728], [325.9875323442227, 67431325.314896598], [3983.1067142473294, 26305148.923760578], [110.24679424768641, 70570884.728673115]]\n",
      "\n",
      "\n"
     ]
    }
   ],
   "source": [
    "for gen, scores in score_evolution.items():\n",
    "    print('Generation:', gen)\n",
    "    print('Scores:', scores)\n",
    "    print('\\n')"
   ]
  },
  {
   "cell_type": "code",
   "execution_count": null,
   "metadata": {
    "collapsed": false
   },
   "outputs": [],
   "source": []
  },
  {
   "cell_type": "code",
   "execution_count": null,
   "metadata": {
    "collapsed": false
   },
   "outputs": [],
   "source": []
  },
  {
   "cell_type": "code",
   "execution_count": null,
   "metadata": {
    "collapsed": false
   },
   "outputs": [],
   "source": []
  },
  {
   "cell_type": "code",
   "execution_count": null,
   "metadata": {
    "collapsed": false
   },
   "outputs": [],
   "source": []
  },
  {
   "cell_type": "code",
   "execution_count": null,
   "metadata": {
    "collapsed": false,
    "scrolled": true
   },
   "outputs": [],
   "source": []
  },
  {
   "cell_type": "code",
   "execution_count": null,
   "metadata": {
    "collapsed": false
   },
   "outputs": [],
   "source": []
  },
  {
   "cell_type": "code",
   "execution_count": null,
   "metadata": {
    "collapsed": false
   },
   "outputs": [],
   "source": []
  },
  {
   "cell_type": "code",
   "execution_count": null,
   "metadata": {
    "collapsed": false
   },
   "outputs": [],
   "source": []
  }
 ],
 "metadata": {
  "kernelspec": {
   "display_name": "Python 3",
   "language": "python",
   "name": "python3"
  },
  "language_info": {
   "codemirror_mode": {
    "name": "ipython",
    "version": 3
   },
   "file_extension": ".py",
   "mimetype": "text/x-python",
   "name": "python",
   "nbconvert_exporter": "python",
   "pygments_lexer": "ipython3",
   "version": "3.4.3"
  }
 },
 "nbformat": 4,
 "nbformat_minor": 0
}
