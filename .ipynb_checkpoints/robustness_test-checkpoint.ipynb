{
 "cells": [
  {
   "cell_type": "code",
   "execution_count": null,
   "metadata": {
    "collapsed": true
   },
   "outputs": [],
   "source": [
    "from main import *\n",
    "import pickle\n",
    "%load_ext autoreload\n",
    "%autoreload 2"
   ]
  },
  {
   "cell_type": "code",
   "execution_count": 3,
   "metadata": {
    "collapsed": false
   },
   "outputs": [
    {
     "name": "stdout",
     "output_type": "stream",
     "text": [
      "11.11111111111111  hours\n"
     ]
    }
   ],
   "source": [
    "# simulation time estimate\n",
    "\n",
    "generations = 50\n",
    "population_size = 20\n",
    "num_mutants = 5  # it's a default argument in fitness.py, not used here\n",
    "\n",
    "print(generations*population_size*num_mutants*8/3600, ' hours')"
   ]
  },
  {
   "cell_type": "code",
   "execution_count": null,
   "metadata": {
    "collapsed": false
   },
   "outputs": [],
   "source": [
    "%%prun -D robustness_test.prof -q\n",
    "\n",
    "# run simulation\n",
    "populations = run_simulation(generations=generations, population_size=population_size, mutations_per_division=2, test=robustness_test)\n",
    "\n",
    "# write results to serialized file\n",
    "with open('robustness_test_results.p', 'wb') as f:\n",
    "    pickle.dump(populations, f)"
   ]
  }
 ],
 "metadata": {
  "kernelspec": {
   "display_name": "Python 3",
   "language": "python",
   "name": "python3"
  },
  "language_info": {
   "codemirror_mode": {
    "name": "ipython",
    "version": 3
   },
   "file_extension": ".py",
   "mimetype": "text/x-python",
   "name": "python",
   "nbconvert_exporter": "python",
   "pygments_lexer": "ipython3",
   "version": "3.4.3"
  }
 },
 "nbformat": 4,
 "nbformat_minor": 0
}
