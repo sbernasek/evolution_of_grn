{
 "cells": [
  {
   "cell_type": "code",
   "execution_count": null,
   "metadata": {
    "collapsed": false
   },
   "outputs": [],
   "source": [
    "from main import *\n",
    "\n",
    "%matplotlib inline\n",
    "%load_ext autoreload\n",
    "%autoreload 2"
   ]
  },
  {
   "cell_type": "code",
   "execution_count": null,
   "metadata": {
    "collapsed": false
   },
   "outputs": [],
   "source": [
    "ls data/"
   ]
  },
  {
   "cell_type": "code",
   "execution_count": null,
   "metadata": {
    "collapsed": false
   },
   "outputs": [],
   "source": [
    "# load simulation results\n",
    "file_path = 'data/adaptation_5x5_v0/'\n",
    "results = load_results_from_json(file_path)"
   ]
  },
  {
   "cell_type": "code",
   "execution_count": null,
   "metadata": {
    "collapsed": false
   },
   "outputs": [],
   "source": []
  },
  {
   "cell_type": "code",
   "execution_count": null,
   "metadata": {
    "collapsed": false
   },
   "outputs": [],
   "source": [
    "# plot population size\n",
    "ax = plot_pareto_front_size(results)\n",
    "\n",
    "# plot 2D evolutionary trajectory\n",
    "ax = plot_2D_trajectory(results, obj=(0, 1), connect_front=True, labels=['Robustness Score', 'ATP Usage'])\n",
    "ax.set_ylim(4.6e7, 4.8e7)\n",
    "ax.set_yscale('linear')"
   ]
  },
  {
   "cell_type": "code",
   "execution_count": null,
   "metadata": {
    "collapsed": false
   },
   "outputs": [],
   "source": []
  },
  {
   "cell_type": "code",
   "execution_count": null,
   "metadata": {
    "collapsed": false
   },
   "outputs": [],
   "source": []
  },
  {
   "cell_type": "code",
   "execution_count": null,
   "metadata": {
    "collapsed": false
   },
   "outputs": [],
   "source": [
    "# get topological features from pareto front, ordered from most robust to most efficient\n",
    "robustness, energy_usage, edge_count, node_count, edges_per_node, edges_per_gene = get_topology_from_front(results)\n",
    "    \n",
    "# plot edges vs position on pareto front\n",
    "\n",
    "ax = plot_pareto_objective_tradeoff(metrics=[robustness, energy_usage], metric_names=['Robustness', 'Energy Usage'], plot_title='Objective Function Tradeoff')\n",
    "    \n",
    "# plot edges vs position on pareto front\n",
    "ax = plot_metric(edge_count, 'Number of Edges')\n",
    "\n",
    "# plot edges vs position on pareto front\n",
    "ax1 = plot_metric(node_count, 'Number of Nodes', plot_title='Network Size')\n",
    "\n",
    "# plot edges vs position on pareto front\n",
    "ax2 = plot_metric(edges_per_gene, 'Edges per Gene', 'Regulatory Density')"
   ]
  },
  {
   "cell_type": "code",
   "execution_count": null,
   "metadata": {
    "collapsed": false
   },
   "outputs": [],
   "source": [
    "# plot edge type count vs rank"
   ]
  },
  {
   "cell_type": "code",
   "execution_count": null,
   "metadata": {
    "collapsed": false
   },
   "outputs": [],
   "source": []
  },
  {
   "cell_type": "code",
   "execution_count": null,
   "metadata": {
    "collapsed": false
   },
   "outputs": [],
   "source": []
  },
  {
   "cell_type": "code",
   "execution_count": null,
   "metadata": {
    "collapsed": false
   },
   "outputs": [],
   "source": [
    "# analyze a single cell\n",
    "\n",
    "# select a cell from the population\n",
    "cell_num = 0\n",
    "cell = list(results[len(results)-1].items())[cell_num][0]\n",
    "\n",
    "# check it's steady state simulation results\n",
    "steady_states = cell.get_steady_states(input_node=2, input_magnitude=1)\n",
    "cell.plot_steady_states(input_node=2, input_magnitude=1, output_node=1)\n",
    "ax = plt.gca()\n",
    "ax.plot([0, 100], [steady_states[cell.key[1]], steady_states[cell.key[1]]], '--b', linewidth=3, label='Steady State')\n",
    "\n",
    "# check its interaction test results\n",
    "_ = cell.interaction_check_numerical(input_node=2, output_node=1, steady_states=steady_states, plot=True)\n",
    "ax = plt.gca()\n",
    "ax.plot([0, 100], [steady_states[cell.key[1]], steady_states[cell.key[1]]], '--r', linewidth=3, label='Pre-Input')\n",
    "ax.legend(loc=0)\n",
    "\n",
    "# generate table of all reactions and modifications\n",
    "cell.show_reactions(grn_indices=True)\n",
    "\n",
    "# generate network graph\n",
    "cell.show_topology(input_node=2, output_node=1)\n",
    "\n",
    "# run adaptation test\n",
    "score, energy = adaptation_test(cell, input_node=2, output_node=1, input_random=False, plot=True)\n",
    "\n",
    "# run robustness test\n",
    "scores = robustness_test(cell, num_mutants=10, input_node=2, output_node=1, steady_states=None, plot=True)"
   ]
  },
  {
   "cell_type": "code",
   "execution_count": null,
   "metadata": {
    "collapsed": true
   },
   "outputs": [],
   "source": []
  }
 ],
 "metadata": {
  "kernelspec": {
   "display_name": "Python 3",
   "language": "python",
   "name": "python3"
  },
  "language_info": {
   "codemirror_mode": {
    "name": "ipython",
    "version": 3
   },
   "file_extension": ".py",
   "mimetype": "text/x-python",
   "name": "python",
   "nbconvert_exporter": "python",
   "pygments_lexer": "ipython3",
   "version": "3.4.1"
  }
 },
 "nbformat": 4,
 "nbformat_minor": 0
}
