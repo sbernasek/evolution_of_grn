{
 "cells": [
  {
   "cell_type": "code",
   "execution_count": 3,
   "metadata": {
    "collapsed": false
   },
   "outputs": [
    {
     "name": "stdout",
     "output_type": "stream",
     "text": [
      "The autoreload extension is already loaded. To reload it, use:\n",
      "  %reload_ext autoreload\n"
     ]
    }
   ],
   "source": [
    "from main import *\n",
    "import pickle\n",
    "%matplotlib inline\n",
    "%load_ext autoreload\n",
    "%autoreload 2"
   ]
  },
  {
   "cell_type": "code",
   "execution_count": 5,
   "metadata": {
    "collapsed": false
   },
   "outputs": [
    {
     "name": "stdout",
     "output_type": "stream",
     "text": [
      "Estimated time: 0.17  hours\n"
     ]
    }
   ],
   "source": [
    "# simulation time estimate\n",
    "\n",
    "generations = 5\n",
    "population_size = 5\n",
    "num_mutants = 5  # it's a default argument in fitness.py, not used here\n",
    "results_file_name = 'robustness_' + str(generations) + 'gen' + str(population_size) + 'cells.p'\n",
    "\n",
    "print('Estimated time:', np.round(generations*population_size*num_mutants*1.2/3600, 2), ' hours')"
   ]
  },
  {
   "cell_type": "code",
   "execution_count": 6,
   "metadata": {
    "collapsed": false
   },
   "outputs": [
    {
     "name": "stdout",
     "output_type": "stream",
     "text": [
      "Generation 0 took 607.46 seconds\n",
      "Generation 1 took 235.43 seconds\n",
      "Generation 2 took 64.15 seconds\n",
      "Generation 3 took 31.97 seconds\n",
      "Generation 4 took 36.44 seconds\n",
      "Generation 5 took 51.76 seconds\n",
      "Generation 6 took 35.14 seconds\n",
      "Generation 7 took 10.59 seconds\n",
      "Generation 8 took 34.04 seconds\n",
      "Generation 9 took 34.84 seconds\n"
     ]
    }
   ],
   "source": [
    "# %%prun -D robustness_test.prof -q\n",
    "\n",
    "# run simulation\n",
    "populations = run_simulation(generations=generations, population_size=population_size, mutations_per_division=2, test=robustness_test)\n",
    "\n",
    "# write results to serialized file\n",
    "# with open(results_file_name, 'wb') as f:\n",
    "#     pickle.dump(populations, f)"
   ]
  },
  {
   "cell_type": "code",
   "execution_count": 10,
   "metadata": {
    "collapsed": true
   },
   "outputs": [],
   "source": [
    "# # write results to serialized file\n",
    "# with open(results_file_name, 'wb') as f:\n",
    "#     pickle.dump(populations, f)"
   ]
  },
  {
   "cell_type": "code",
   "execution_count": 11,
   "metadata": {
    "collapsed": false
   },
   "outputs": [],
   "source": [
    "# load results\n",
    "# with open(results_file_name, 'rb') as f:\n",
    "#     results = pickle.load(f)"
   ]
  },
  {
   "cell_type": "code",
   "execution_count": null,
   "metadata": {
    "collapsed": false
   },
   "outputs": [],
   "source": []
  }
 ],
 "metadata": {
  "kernelspec": {
   "display_name": "Python 3",
   "language": "python",
   "name": "python3"
  },
  "language_info": {
   "codemirror_mode": {
    "name": "ipython",
    "version": 3
   },
   "file_extension": ".py",
   "mimetype": "text/x-python",
   "name": "python",
   "nbconvert_exporter": "python",
   "pygments_lexer": "ipython3",
   "version": "3.4.3"
  }
 },
 "nbformat": 4,
 "nbformat_minor": 0
}
