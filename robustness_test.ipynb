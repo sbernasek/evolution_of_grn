{
 "cells": [
  {
   "cell_type": "code",
   "execution_count": 1,
   "metadata": {
    "collapsed": false
   },
   "outputs": [],
   "source": [
    "from main import *\n",
    "import pickle\n",
    "%matplotlib inline\n",
    "%load_ext autoreload\n",
    "%autoreload 2"
   ]
  },
  {
   "cell_type": "code",
   "execution_count": 2,
   "metadata": {
    "collapsed": false
   },
   "outputs": [
    {
     "name": "stdout",
     "output_type": "stream",
     "text": [
      "2.92  hours\n"
     ]
    }
   ],
   "source": [
    "# simulation time estimate\n",
    "\n",
    "generations = 70\n",
    "population_size = 25\n",
    "num_mutants = 5  # it's a default argument in fitness.py, not used here\n",
    "results_file_name = 'robustness_' + generations + 'gen' + population_size + 'cells.p'\n",
    "\n",
    "print('Estimated time:', np.round(generations*population_size*num_mutants*1.2/3600, 2), ' hours')"
   ]
  },
  {
   "cell_type": "code",
   "execution_count": 3,
   "metadata": {
    "collapsed": false
   },
   "outputs": [
    {
     "name": "stdout",
     "output_type": "stream",
     "text": [
      "Generation  0 took 1602.2634739875793 seconds\n",
      "Generation  1 took 489.82455706596375 seconds\n",
      "Generation  2 took 324.66623401641846 seconds\n",
      "Generation  3 took 263.8569700717926 seconds\n",
      "Generation  4 took 204.25834012031555 seconds\n",
      "stiff equation solver failed\n",
      "Generation  5 took 134.16389799118042 seconds\n",
      "Generation  6 took 164.54384517669678 seconds\n",
      "Generation  7 took 112.42047500610352 seconds\n",
      "Generation  8 took 125.55151295661926 seconds\n",
      "Generation  9 took 153.7860050201416 seconds\n",
      "Generation  10 took 70.2869701385498 seconds\n",
      "Generation  11 took 146.05840396881104 seconds\n",
      "Generation  12 took 100.99670386314392 seconds\n",
      "Generation  13 took 97.80621910095215 seconds\n",
      "Generation  14 took 62.63234496116638 seconds\n",
      "Generation  15 took 92.09692716598511 seconds\n",
      "Generation  16 took 187.0480670928955 seconds\n",
      "Generation  17 took 37.43121910095215 seconds\n",
      "Generation  18 took 87.1034300327301 seconds\n",
      "Generation  19 took 69.18780708312988 seconds\n",
      "Generation  20 took 66.87322402000427 seconds\n",
      "Generation  21 took 59.464932918548584 seconds\n",
      "Generation  22 took 225.29804611206055 seconds\n",
      "Generation  23 took 155.94291400909424 seconds\n",
      "Generation  24 took 160.5542230606079 seconds\n",
      "Generation  25 took 158.23912906646729 seconds\n",
      "Generation  26 took 182.76534795761108 seconds\n",
      "Generation  27 took 156.55299520492554 seconds\n",
      "Generation  28 took 129.61812782287598 seconds\n",
      "stiff equation solver failed\n",
      "stiff equation solver failed\n",
      "Generation  29 took 114.11986684799194 seconds\n",
      "Generation  30 took 218.22788000106812 seconds\n",
      "stiff equation solver failed\n",
      "Generation  31 took 164.56235909461975 seconds\n",
      "Generation  32 took 137.6191987991333 seconds\n",
      "Generation  33 took 121.12248206138611 seconds\n",
      "Generation  34 took 77.04459881782532 seconds\n",
      "Generation  35 took 109.34485197067261 seconds\n",
      "Generation  36 took 71.662358045578 seconds\n",
      "Generation  37 took 110.13281106948853 seconds\n",
      "Generation  38 took 126.96769905090332 seconds\n",
      "Generation  39 took 65.03917694091797 seconds\n",
      "Generation  40 took 57.17289209365845 seconds\n",
      "Generation  41 took 75.09418511390686 seconds\n",
      "Generation  42 took 38.90622401237488 seconds\n",
      "Generation  43 took 41.82108998298645 seconds\n",
      "stiff equation solver failed\n",
      "Generation  44 took 170.3553659915924 seconds\n",
      "Generation  45 took 152.59244990348816 seconds\n",
      "Generation  46 took 154.95279598236084 seconds\n",
      "Generation  47 took 141.78996586799622 seconds\n",
      "Generation  48 took 108.01851415634155 seconds\n",
      "Generation  49 took 124.7070791721344 seconds\n",
      "Generation  50 took 89.69301414489746 seconds\n",
      "Generation  51 took 115.42922806739807 seconds\n",
      "Generation  52 took 142.27133011817932 seconds\n",
      "Generation  53 took 221.24078512191772 seconds\n",
      "Generation  54 took 193.57903289794922 seconds\n",
      "Generation  55 took 167.3824360370636 seconds\n",
      "Generation  56 took 119.85587310791016 seconds\n",
      "Generation  57 took 62.151647090911865 seconds\n",
      "Generation  58 took 66.6764280796051 seconds\n",
      "Generation  59 took 71.4580500125885 seconds\n",
      "Generation  60 took 76.93442702293396 seconds\n",
      "Generation  61 took 60.26370692253113 seconds\n",
      "Generation  62 took 208.6072280406952 seconds\n",
      "Generation  63 took 206.22139811515808 seconds\n",
      "Generation  64 took 151.9116930961609 seconds\n",
      "stiff equation solver failed\n",
      "Generation  65 took 195.1015980243683 seconds\n",
      "Generation  66 took 199.0956199169159 seconds\n",
      "Generation  67 took 137.6806080341339 seconds\n",
      "Generation  68 took 116.34400296211243 seconds\n",
      "stiff equation solver failed\n",
      "Generation  69 took 88.62848901748657 seconds\n",
      " \n",
      "*** Profile stats marshalled to file 'robustness_test.prof'. \n"
     ]
    }
   ],
   "source": [
    "%%prun -D robustness_test.prof -q\n",
    "\n",
    "# run simulation\n",
    "populations = run_simulation(generations=generations, population_size=population_size, mutations_per_division=2, test=robustness_test)\n",
    "\n",
    "# write results to serialized file\n",
    "with open(results_file_name, 'wb') as f:\n",
    "    pickle.dump(populations, f)"
   ]
  },
  {
   "cell_type": "code",
   "execution_count": null,
   "metadata": {
    "collapsed": false
   },
   "outputs": [],
   "source": []
  },
  {
   "cell_type": "code",
   "execution_count": null,
   "metadata": {
    "collapsed": true
   },
   "outputs": [],
   "source": []
  }
 ],
 "metadata": {
  "kernelspec": {
   "display_name": "Python 3",
   "language": "python",
   "name": "python3"
  },
  "language_info": {
   "codemirror_mode": {
    "name": "ipython",
    "version": 3
   },
   "file_extension": ".py",
   "mimetype": "text/x-python",
   "name": "python",
   "nbconvert_exporter": "python",
   "pygments_lexer": "ipython3",
   "version": "3.4.3"
  }
 },
 "nbformat": 4,
 "nbformat_minor": 0
}
