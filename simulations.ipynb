{
 "cells": [
  {
   "cell_type": "code",
   "execution_count": 5,
   "metadata": {
    "collapsed": false
   },
   "outputs": [
    {
     "name": "stdout",
     "output_type": "stream",
     "text": [
      "The autoreload extension is already loaded. To reload it, use:\n",
      "  %reload_ext autoreload\n"
     ]
    }
   ],
   "source": [
    "from main import *\n",
    "\n",
    "%load_ext autoreload\n",
    "%autoreload 2"
   ]
  },
  {
   "cell_type": "code",
   "execution_count": 6,
   "metadata": {
    "collapsed": false
   },
   "outputs": [
    {
     "name": "stdout",
     "output_type": "stream",
     "text": [
      "Estimated time: 16.67  hours\n"
     ]
    }
   ],
   "source": [
    "\n",
    "\n",
    "# define simulation type\n",
    "test = 'robustness'\n",
    "\n",
    "# define simulation size\n",
    "generations = 200\n",
    "population_size = 50\n",
    "num_mutants = 5\n",
    "\n",
    "print('Estimated time:', np.round(generations*population_size*num_mutants*1.2/3600, 2), ' hours')"
   ]
  },
  {
   "cell_type": "code",
   "execution_count": null,
   "metadata": {
    "collapsed": false
   },
   "outputs": [],
   "source": [
    "%%prun -D 'data/robustness_200x50.prof' -q\n",
    "\n",
    "# write data to specified directory\n",
    "results_directory = 'data/'\n",
    "\n",
    "# run simulation\n",
    "run_simulation(directory=results_directory, generations=generations, population_size=population_size, mutations_per_division=2, test=test)"
   ]
  },
  {
   "cell_type": "code",
   "execution_count": null,
   "metadata": {
    "collapsed": true
   },
   "outputs": [],
   "source": []
  }
 ],
 "metadata": {
  "kernelspec": {
   "display_name": "Python 3",
   "language": "python",
   "name": "python3"
  },
  "language_info": {
   "codemirror_mode": {
    "name": "ipython",
    "version": 3
   },
   "file_extension": ".py",
   "mimetype": "text/x-python",
   "name": "python",
   "nbconvert_exporter": "python",
   "pygments_lexer": "ipython3",
   "version": "3.4.3"
  }
 },
 "nbformat": 4,
 "nbformat_minor": 0
}
